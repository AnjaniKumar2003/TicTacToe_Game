{
  "nbformat": 4,
  "nbformat_minor": 0,
  "metadata": {
    "colab": {
      "provenance": [],
      "collapsed_sections": []
    },
    "kernelspec": {
      "name": "python3",
      "display_name": "Python 3"
    },
    "language_info": {
      "name": "python"
    }
  },
  "cells": [
    {
      "cell_type": "markdown",
      "source": [
        "# **TIC-TAC-TOE game implementation using minimax algorithm**\n",
        "\n",
        "\n",
        "---\n",
        "\n",
        "\n",
        "\n",
        "---\n",
        "\n"
      ],
      "metadata": {
        "id": "bVnlwH-GSWby"
      }
    },
    {
      "cell_type": "code",
      "execution_count": 55,
      "metadata": {
        "id": "GwVOsM_OkNEP"
      },
      "outputs": [],
      "source": [
        "import numpy as np\n",
        "import copy\n",
        "import math\n",
        "INT_MAX = math.inf\n",
        "INT_MIN = -math.inf\n",
        "ai,human='X','O'\n",
        "import time"
      ]
    },
    {
      "cell_type": "markdown",
      "source": [
        "Declaring important global variables and importing few useful libraries"
      ],
      "metadata": {
        "id": "0Ox01uysKpIl"
      }
    },
    {
      "cell_type": "code",
      "source": [
        "def check_ifPlayerWon(matrix,player):        \n",
        "  if(matrix[0][0]==player and matrix[0][1]==player and matrix[0][2]==player):  # row 1 check\n",
        "    return True\n",
        "  elif(matrix[1][0]==player and matrix[1][1]==player and matrix[1][2]==player): # row 2 check\n",
        "    return True\n",
        "  elif(matrix[2][0]==player and matrix[2][1]==player and matrix[2][2]==player): # row 3 check\n",
        "    return True\n",
        "  elif(matrix[0][0]==player and matrix[1][0]==player and matrix[2][0]==player): # col 1 check\n",
        "    return True\n",
        "  elif(matrix[0][1]==player and matrix[1][1]==player and matrix[2][1]==player): # col 2 check \n",
        "    return True\n",
        "  elif(matrix[0][2]==player and matrix[1][2]==player and matrix[2][2]==player): # col 3 check\n",
        "    return True\n",
        "  elif(matrix[0][0]==player and matrix[1][1]==player and matrix[2][2]==player): # diagnol 1 check\n",
        "    return True\n",
        "  elif(matrix[2][0]==player and matrix[1][1]==player and matrix[0][2]==player): # diagnol 2 check\n",
        "    return True\n",
        "  return False \n"
      ],
      "metadata": {
        "id": "99VkwQIytHBX"
      },
      "execution_count": 46,
      "outputs": []
    },
    {
      "cell_type": "markdown",
      "source": [
        "**check_ifPlayerWon()** function checks all the rows,columns and diagnols to verify if the player has won or not.\n",
        "\n",
        "*   Returns true if player won\n",
        "*   Return false if game can still continue\n",
        "\n"
      ],
      "metadata": {
        "id": "wMMtKtCFKzPZ"
      }
    },
    {
      "cell_type": "code",
      "source": [
        "def utility_value(matrix):\n",
        "  if(check_ifPlayerWon(matrix,'X')==True):\n",
        "    return 1\n",
        "  if(check_ifPlayerWon(matrix,'O')==True):\n",
        "    return -1\n",
        "  return 0\n",
        "\n",
        "def isFilled_board(matrix):\n",
        "  for i in range(3):\n",
        "    for j in range(3):\n",
        "      if matrix[i][j]=='.':\n",
        "        return False\n",
        "  return True"
      ],
      "metadata": {
        "id": "MN4v7klJJ-L4"
      },
      "execution_count": 31,
      "outputs": []
    },
    {
      "cell_type": "markdown",
      "source": [
        "**utility_value()** function returns the utility value of the leaf nodes or terminal states\n",
        "\n",
        "*   returns 1 if AI won in terminal state\n",
        "*   returns -1 if human won in terminal state\n",
        "*   returns 0 on Tie\n",
        "\n",
        "**isFilled_board()** functions returns true if board is filled and no further moves can be made else returns false\n",
        "\n",
        "\n",
        "\n"
      ],
      "metadata": {
        "id": "0-p9fTh8LNnG"
      }
    },
    {
      "cell_type": "code",
      "source": [
        "def computer_move(board):              # computer move is made by recursively checking all available positions in board and choses the move which has the highest minimax value\n",
        "  bestval=INT_MIN\n",
        "  bestmove=()\n",
        "  for i in range(3):\n",
        "    for j in range(3):\n",
        "      if(board[i][j]=='.'):\n",
        "        board[i][j]=ai\n",
        "        val=minimax(board,False)\n",
        "        board[i][j]='.'\n",
        "        if(val > bestval):\n",
        "          bestval=val\n",
        "          bestmove=(i,j)\n",
        "  board[bestmove[0]][bestmove[1]]=ai"
      ],
      "metadata": {
        "id": "7BwYJpYpk-bS"
      },
      "execution_count": null,
      "outputs": []
    },
    {
      "cell_type": "markdown",
      "source": [
        "**computer_move()** function recursively checks all the possible available slots places the AI move then calls the **minimax()** function if the value returned by the minimax function is better than previous value then it updates the value,store the current move and undo the AI move.\n",
        "\n",
        "After exhausting all the possible available slots then at best stored move the AI move is placed "
      ],
      "metadata": {
        "id": "_NxA-OKfL_gE"
      }
    },
    {
      "cell_type": "code",
      "source": [
        "def minimax(board,isMax):\n",
        "  if(isFilled_board(board)):                    # return the utility value of board if the board is filled\n",
        "    return utility_value(board)\n",
        "\n",
        "  if(check_ifPlayerWon(board,human) or check_ifPlayerWon(board,ai)):    # return the utility value according to either ai or human won\n",
        "    return utility_value(board)\n",
        "  \n",
        "  if(isMax==True):\n",
        "    bestVal=INT_MIN\n",
        "    for i in range(3):\n",
        "      for j in range(3):\n",
        "        if(board[i][j]=='.'):\n",
        "          board[i][j]=ai\n",
        "          val=minimax(board,False)\n",
        "          bestVal=max(val,bestVal)\n",
        "          board[i][j]='.'\n",
        "    return bestVal\n",
        "\n",
        "  else:\n",
        "    bestVal=INT_MAX\n",
        "    for i in range(3):\n",
        "      for j in range(3):\n",
        "        if(board[i][j]=='.'):\n",
        "          board[i][j]=human\n",
        "          val=minimax(board,True)\n",
        "          bestVal=min(val,bestVal)\n",
        "          board[i][j]='.'\n",
        "    return bestVal\n"
      ],
      "metadata": {
        "id": "vhuFLTKiKGIu"
      },
      "execution_count": 33,
      "outputs": []
    },
    {
      "cell_type": "markdown",
      "source": [
        "**minimax()** function recursively checks the all the possible child configurations of the current board configuration , until a terminal state is found and returns the utility value of the terminal state.\n",
        "\n",
        "if **isMax==True** then function checks the maximum of all the child configurations.\n",
        "if **isMax==False** then function checks the minimum of all the child configurations."
      ],
      "metadata": {
        "id": "gDboUOTZNF-5"
      }
    },
    {
      "cell_type": "code",
      "source": [
        "def print_board(matrix):                       # for clean display of board configuration\n",
        "  for i in range(len(matrix)):\n",
        "    for j in range(len(matrix)):\n",
        "      print(matrix[i][j],\"  |  \",end=\"\")\n",
        "    print()\n",
        "  print(\"===============================\")"
      ],
      "metadata": {
        "id": "DKwA_ze6KGeu"
      },
      "execution_count": 34,
      "outputs": []
    },
    {
      "cell_type": "markdown",
      "source": [
        "**print_board()** neatly prints the matrix"
      ],
      "metadata": {
        "id": "ZF7IfflSR0_P"
      }
    },
    {
      "cell_type": "code",
      "source": [
        "def Start_Game():\n",
        "  board=[['.','.','.'],['.','.','.'],['.','.','.']]    # inital config of board \n",
        "  start=time.process_time()\n",
        "  while(isFilled_board(board)==False):      # Runs loop until game is finished or board is filled\n",
        "    print(\"Computer move\")\n",
        "    computer_move(board)              # First Move is made by computer\n",
        "    print_board(board)\n",
        "    if(check_ifPlayerWon(board,ai)):\n",
        "      print(\"Computer Won\")\n",
        "      break\n",
        "    if(isFilled_board(board)):\n",
        "      print(\"Tie\")\n",
        "      break\n",
        "    print(\"User move\")\n",
        "    print(\"Enter the Move (row,column):\")\n",
        "    user_move=list(map(int,input().split()))\n",
        "    board[user_move[0]][user_move[1]]='O'\n",
        "    print_board(board)\n",
        "    if(check_ifPlayerWon(board,human)):\n",
        "      print(\"User won\")\n",
        "      break\n",
        "  end=time.process_time()\n",
        "  print(\"=================\")\n",
        "  print(\"Time taken is :\",end-start,\"sec\")\n"
      ],
      "metadata": {
        "id": "jaicbt7cKQFs"
      },
      "execution_count": 56,
      "outputs": []
    },
    {
      "cell_type": "markdown",
      "source": [
        "**Start_Game()** initializes the board configuration,then continously runs the while loop until the game is over"
      ],
      "metadata": {
        "id": "KI6ETGRlR615"
      }
    },
    {
      "cell_type": "code",
      "source": [
        "if __name__==\"__main__\":\n",
        "  Start_Game()"
      ],
      "metadata": {
        "colab": {
          "base_uri": "https://localhost:8080/"
        },
        "id": "GCZUt9W5KUQL",
        "outputId": "f6000fde-1b43-4658-e782-8be4effea694"
      },
      "execution_count": 57,
      "outputs": [
        {
          "output_type": "stream",
          "name": "stdout",
          "text": [
            "Computer move\n",
            "X   |  .   |  .   |  \n",
            ".   |  .   |  .   |  \n",
            ".   |  .   |  .   |  \n",
            "===============================\n",
            "User move\n",
            "Enter the Move (row,column):\n",
            "1 1\n",
            "X   |  .   |  .   |  \n",
            ".   |  O   |  .   |  \n",
            ".   |  .   |  .   |  \n",
            "===============================\n",
            "Computer move\n",
            "X   |  X   |  .   |  \n",
            ".   |  O   |  .   |  \n",
            ".   |  .   |  .   |  \n",
            "===============================\n",
            "User move\n",
            "Enter the Move (row,column):\n",
            "0 2\n",
            "X   |  X   |  O   |  \n",
            ".   |  O   |  .   |  \n",
            ".   |  .   |  .   |  \n",
            "===============================\n",
            "Computer move\n",
            "X   |  X   |  O   |  \n",
            ".   |  O   |  .   |  \n",
            "X   |  .   |  .   |  \n",
            "===============================\n",
            "User move\n",
            "Enter the Move (row,column):\n",
            "1 0\n",
            "X   |  X   |  O   |  \n",
            "O   |  O   |  .   |  \n",
            "X   |  .   |  .   |  \n",
            "===============================\n",
            "Computer move\n",
            "X   |  X   |  O   |  \n",
            "O   |  O   |  X   |  \n",
            "X   |  .   |  .   |  \n",
            "===============================\n",
            "User move\n",
            "Enter the Move (row,column):\n",
            "2 2\n",
            "X   |  X   |  O   |  \n",
            "O   |  O   |  X   |  \n",
            "X   |  .   |  O   |  \n",
            "===============================\n",
            "Computer move\n",
            "X   |  X   |  O   |  \n",
            "O   |  O   |  X   |  \n",
            "X   |  X   |  O   |  \n",
            "===============================\n",
            "Tie\n",
            "=================\n",
            "Time taken is : 0.6317262770000127 sec\n"
          ]
        }
      ]
    },
    {
      "cell_type": "markdown",
      "source": [
        "# **TIC-TAC-TOE game implementation using minimax algorithm optimized by alpha-beta pruning**\n",
        "\n",
        "\n",
        "---\n",
        "\n",
        "\n",
        "\n",
        "---\n",
        "\n"
      ],
      "metadata": {
        "id": "zIP0ees_Uf2U"
      }
    },
    {
      "cell_type": "code",
      "source": [
        "import numpy as np\n",
        "import copy\n",
        "import math\n",
        "import time\n",
        "INT_MAX = math.inf\n",
        "INT_MIN = -math.inf\n",
        "ai,human='X','O'\n",
        "\n",
        "\n",
        "def check_ifPlayerWon(matrix,player):        \n",
        "  if(matrix[0][0]==player and matrix[0][1]==player and matrix[0][2]==player):  # row 1 check\n",
        "    return True\n",
        "  elif(matrix[1][0]==player and matrix[1][1]==player and matrix[1][2]==player): # row 2 check\n",
        "    return True\n",
        "  elif(matrix[2][0]==player and matrix[2][1]==player and matrix[2][2]==player): # row 3 check\n",
        "    return True\n",
        "  elif(matrix[0][0]==player and matrix[1][0]==player and matrix[2][0]==player): # col 1 check\n",
        "    return True\n",
        "  elif(matrix[0][1]==player and matrix[1][1]==player and matrix[2][1]==player): # col 2 check \n",
        "    return True\n",
        "  elif(matrix[0][2]==player and matrix[1][2]==player and matrix[2][2]==player): # col 3 check\n",
        "    return True\n",
        "  elif(matrix[0][0]==player and matrix[1][1]==player and matrix[2][2]==player): # diagnol 1 check\n",
        "    return True\n",
        "  elif(matrix[2][0]==player and matrix[1][1]==player and matrix[0][2]==player): # diagnol 2 check\n",
        "    return True\n",
        "  return False \n",
        "\n",
        "\n",
        "def utility_value(matrix):\n",
        "  if(check_ifPlayerWon(matrix,'X')==True):\n",
        "    return 1\n",
        "  if(check_ifPlayerWon(matrix,'O')==True):\n",
        "    return -1\n",
        "  return 0\n",
        "\n",
        "def isFilled_board(matrix):\n",
        "  for i in range(3):\n",
        "    for j in range(3):\n",
        "      if matrix[i][j]=='.':\n",
        "        return False\n",
        "  return True\n",
        "\n",
        "\n",
        "def computer_move(board):              # computer move is made by recursively checking all available positions in board and choses the move which has the highest minimax value\n",
        "  bestval=INT_MIN\n",
        "  bestmove=()\n",
        "  for i in range(3):\n",
        "    for j in range(3):\n",
        "      if(board[i][j]=='.'):\n",
        "        board[i][j]=ai\n",
        "        val=minimax(board,False,INT_MIN,INT_MAX)\n",
        "        board[i][j]='.'\n",
        "        if(val > bestval):\n",
        "          bestval=val\n",
        "          bestmove=(i,j)\n",
        "  board[bestmove[0]][bestmove[1]]=ai\n",
        "\n",
        "\n",
        "\n",
        "def minimax(board,isMax,alpha,beta):            # alpha beta pruning\n",
        "  if(isFilled_board(board)):                    # return the utility value of board if the board is filled\n",
        "    return utility_value(board)\n",
        "\n",
        "  if(check_ifPlayerWon(board,human) or check_ifPlayerWon(board,ai)):    # return the utility value according to either ai or human won\n",
        "    return utility_value(board)\n",
        "  \n",
        "  if(isMax==True):\n",
        "    bestVal=INT_MIN\n",
        "    for i in range(3):\n",
        "      for j in range(3):\n",
        "        if(board[i][j]=='.'):\n",
        "          board[i][j]=ai\n",
        "          val=minimax(board,False,alpha,beta)\n",
        "          bestVal=max(val,bestVal)\n",
        "          board[i][j]='.'\n",
        "          if(alpha >= beta):                 # if alpha greater than beta then prune\n",
        "            return bestVal\n",
        "          alpha=max(alpha,bestVal)           # update alpha with maximum of alpha and bestVal\n",
        "    return bestVal\n",
        "\n",
        "  else:\n",
        "    bestVal=INT_MAX\n",
        "    for i in range(3):\n",
        "      for j in range(3):\n",
        "        if(board[i][j]=='.'):\n",
        "          board[i][j]=human\n",
        "          val=minimax(board,True,alpha,beta)\n",
        "          bestVal=min(val,bestVal)\n",
        "          board[i][j]='.'\n",
        "          if(alpha >= beta):              # if alpha greater than beta then prune\n",
        "            return bestVal\n",
        "          beta=min(beta,bestVal)          # update beta with minimum of beta and bestVal\n",
        "    return bestVal\n",
        "\n",
        "\n",
        "def print_board(matrix):                       # for clean display of board configuration\n",
        "  for i in range(len(matrix)):\n",
        "    for j in range(len(matrix)):\n",
        "      print(matrix[i][j],\"  |  \",end=\"\")\n",
        "    print()\n",
        "  print(\"===============================\")\n",
        "\n",
        "\n",
        "def Start_Game():\n",
        "  board=[['.','.','.'],['.','.','.'],['.','.','.']]    # inital config of board \n",
        "  start=time.process_time()\n",
        "  while(isFilled_board(board)==False):      # Runs loop until game is finished or board is filled\n",
        "    print(\"Computer move\")\n",
        "    computer_move(board)              # First Move is made by computer\n",
        "    print_board(board)\n",
        "    if(check_ifPlayerWon(board,ai)):\n",
        "      print(\"Computer Won\")\n",
        "      break\n",
        "    if(isFilled_board(board)):\n",
        "      print(\"Tie\")\n",
        "      break\n",
        "    print(\"User move\")\n",
        "    print(\"Enter the Move (row,column):\")\n",
        "    user_move=list(map(int,input().split()))\n",
        "    board[user_move[0]][user_move[1]]='O'\n",
        "    print_board(board)\n",
        "    if(check_ifPlayerWon(board,human)):\n",
        "      print(\"User won\")\n",
        "      break\n",
        "  end=time.process_time()\n",
        "  print(\"=================\")\n",
        "  print(\"Time taken is :\",end-start,\"sec\")\n",
        "\n",
        "if __name__==\"__main__\":\n",
        "  Start_Game()\n",
        "\n"
      ],
      "metadata": {
        "colab": {
          "base_uri": "https://localhost:8080/"
        },
        "id": "28OdqWPUUrOZ",
        "outputId": "e11039fe-5071-4212-a10c-526414d0a71a"
      },
      "execution_count": 59,
      "outputs": [
        {
          "output_type": "stream",
          "name": "stdout",
          "text": [
            "Computer move\n",
            "X   |  .   |  .   |  \n",
            ".   |  .   |  .   |  \n",
            ".   |  .   |  .   |  \n",
            "===============================\n",
            "User move\n",
            "Enter the Move (row,column):\n",
            "1 1\n",
            "X   |  .   |  .   |  \n",
            ".   |  O   |  .   |  \n",
            ".   |  .   |  .   |  \n",
            "===============================\n",
            "Computer move\n",
            "X   |  X   |  .   |  \n",
            ".   |  O   |  .   |  \n",
            ".   |  .   |  .   |  \n",
            "===============================\n",
            "User move\n",
            "Enter the Move (row,column):\n",
            "0 2\n",
            "X   |  X   |  O   |  \n",
            ".   |  O   |  .   |  \n",
            ".   |  .   |  .   |  \n",
            "===============================\n",
            "Computer move\n",
            "X   |  X   |  O   |  \n",
            ".   |  O   |  .   |  \n",
            "X   |  .   |  .   |  \n",
            "===============================\n",
            "User move\n",
            "Enter the Move (row,column):\n",
            "1 0\n",
            "X   |  X   |  O   |  \n",
            "O   |  O   |  .   |  \n",
            "X   |  .   |  .   |  \n",
            "===============================\n",
            "Computer move\n",
            "X   |  X   |  O   |  \n",
            "O   |  O   |  X   |  \n",
            "X   |  .   |  .   |  \n",
            "===============================\n",
            "User move\n",
            "Enter the Move (row,column):\n",
            "2 2\n",
            "X   |  X   |  O   |  \n",
            "O   |  O   |  X   |  \n",
            "X   |  .   |  O   |  \n",
            "===============================\n",
            "Computer move\n",
            "X   |  X   |  O   |  \n",
            "O   |  O   |  X   |  \n",
            "X   |  X   |  O   |  \n",
            "===============================\n",
            "Tie\n",
            "=================\n",
            "Time taken is : 0.5401881230000072 sec\n"
          ]
        }
      ]
    },
    {
      "cell_type": "markdown",
      "source": [
        "Clearly **the CPU process time taken by normal minimax algorithm is greater than minimax algorithm using alpha-beta pruning** , here the search space is small so the time difference is small ,large changes can be observed for large search spaces , therefore alpha-beta pruning is efficient"
      ],
      "metadata": {
        "id": "IAmEURI1X_gp"
      }
    },
    {
      "cell_type": "markdown",
      "source": [
        "\n",
        "# **RollNo : 420203**\n"
      ],
      "metadata": {
        "id": "ta_t_-bfYq9j"
      }
    }
  ]
}